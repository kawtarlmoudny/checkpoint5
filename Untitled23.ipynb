{
 "cells": [
  {
   "cell_type": "code",
   "execution_count": 1,
   "id": "6a50e8af",
   "metadata": {},
   "outputs": [
    {
     "name": "stdout",
     "output_type": "stream",
     "text": [
      "(1, 2, 3)\n"
     ]
    }
   ],
   "source": [
    "class point3D:\n",
    "    def __init__(self,x,y,z):\n",
    "        self.x=x\n",
    "        self.y=y\n",
    "        self.z=z\n",
    "    def __str__(self):\n",
    "        return str((self.x,self.y,self.z))\n",
    "my_point=point3D(1,2,3)\n",
    "print(my_point)\n",
    "        "
   ]
  },
  {
   "cell_type": "code",
   "execution_count": 5,
   "id": "5444f0a0",
   "metadata": {},
   "outputs": [],
   "source": [
    "class rectangle:\n",
    "    def __init__(self,length,width):\n",
    "        self.length=length\n",
    "        self.width=width\n",
    "        def __str__(self):\n",
    "            return str((self.length,self.width))\n",
    "        def area(self):\n",
    "            return self.length*self.width\n",
    "        def perimeter(self):\n",
    "            return(self.length+self.width)*2\n",
    "myrectangle=rectangle(7,5)            "
   ]
  },
  {
   "cell_type": "code",
   "execution_count": 6,
   "id": "d43bfc35",
   "metadata": {},
   "outputs": [
    {
     "ename": "AttributeError",
     "evalue": "'rectangle' object has no attribute 'area'",
     "output_type": "error",
     "traceback": [
      "\u001b[0;31m---------------------------------------------------------------------------\u001b[0m",
      "\u001b[0;31mAttributeError\u001b[0m                            Traceback (most recent call last)",
      "Input \u001b[0;32mIn [6]\u001b[0m, in \u001b[0;36m<cell line: 1>\u001b[0;34m()\u001b[0m\n\u001b[0;32m----> 1\u001b[0m \u001b[38;5;28mprint\u001b[39m(\u001b[43mmyrectangle\u001b[49m\u001b[38;5;241;43m.\u001b[39;49m\u001b[43marea\u001b[49m())\n\u001b[1;32m      2\u001b[0m myrectangle\u001b[38;5;241m.\u001b[39mperimeter()\n",
      "\u001b[0;31mAttributeError\u001b[0m: 'rectangle' object has no attribute 'area'"
     ]
    }
   ],
   "source": [
    "print(myrectangle.area())\n",
    "myrectangle.perimeter() \n"
   ]
  },
  {
   "cell_type": "code",
   "execution_count": 7,
   "id": "9bb4cd71",
   "metadata": {},
   "outputs": [],
   "source": [
    "class cercle:\n",
    "    \n",
    "    def __init__(self,r,x=0,y=0):\n",
    "        self.o=(x,y)\n",
    "        self.r=r\n",
    "    def __str__(self):\n",
    "        return str(self.o,self.r)\n",
    "    def area (self):\n",
    "        return (3,14*self.r**2)\n",
    "    def perimeter(self):\n",
    "        return (self.r*2)*3,14\n",
    "    def inside (self,x,y):\n",
    "        if y > self.r:\n",
    "            print(\" doesn't belongs\")\n",
    "        else:\n",
    "            print(\"belongs\")\n",
    "mycercle =cercle(4)"
   ]
  },
  {
   "cell_type": "code",
   "execution_count": 8,
   "id": "16fc5dc5",
   "metadata": {},
   "outputs": [
    {
     "name": "stdout",
     "output_type": "stream",
     "text": [
      "belongs\n"
     ]
    }
   ],
   "source": [
    "mycercle.inside(0,1)\n"
   ]
  },
  {
   "cell_type": "code",
   "execution_count": 9,
   "id": "c1d1dbba",
   "metadata": {},
   "outputs": [],
   "source": [
    "class bank:\n",
    "    def __init__(self,balance):\n",
    "        self.balance=balance\n",
    "    def __str__(self):\n",
    "        return str((self.balance))\n",
    "    def deposit(self,p):\n",
    "        self.balance=self.balance+p\n",
    "    def wihdraw(self,m):\n",
    "        self.balance=self.balance-m\n",
    "mybank=bank(21)"
   ]
  },
  {
   "cell_type": "code",
   "execution_count": null,
   "id": "193e75eb",
   "metadata": {},
   "outputs": [],
   "source": []
  }
 ],
 "metadata": {
  "kernelspec": {
   "display_name": "Python 3 (ipykernel)",
   "language": "python",
   "name": "python3"
  },
  "language_info": {
   "codemirror_mode": {
    "name": "ipython",
    "version": 3
   },
   "file_extension": ".py",
   "mimetype": "text/x-python",
   "name": "python",
   "nbconvert_exporter": "python",
   "pygments_lexer": "ipython3",
   "version": "3.9.12"
  }
 },
 "nbformat": 4,
 "nbformat_minor": 5
}
